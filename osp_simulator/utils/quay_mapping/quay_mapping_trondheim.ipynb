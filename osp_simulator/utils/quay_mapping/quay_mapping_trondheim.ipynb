{
 "cells": [
  {
   "attachments": {},
   "cell_type": "markdown",
   "metadata": {},
   "source": [
    "# Definition of quays polygons for Stockholm"
   ]
  },
  {
   "cell_type": "code",
   "execution_count": 30,
   "metadata": {},
   "outputs": [],
   "source": [
    "from math import cos, sin, pi\n",
    "import numpy as np\n",
    "import matplotlib.pyplot as plt\n",
    "from matplotlib.patches import Polygon\n",
    "\n",
    "#Definition of main quay polygon\n",
    "\n",
    "#  \n",
    "#    p3 ------ p2 \\ \n",
    "#    |         |   }depth\n",
    "#    |         |   /\n",
    "#    p0 ------ p1 /"
   ]
  },
  {
   "attachments": {},
   "cell_type": "markdown",
   "metadata": {},
   "source": []
  },
  {
   "attachments": {},
   "cell_type": "markdown",
   "metadata": {},
   "source": [
    "## Input section"
   ]
  },
  {
   "cell_type": "code",
   "execution_count": 31,
   "metadata": {},
   "outputs": [],
   "source": [
    "#Position and heading of vessel center when docked (from autonomy config file)\n",
    "p_docked_north = np.array([-455.324, -343.544])\n",
    "dir_docked_north = 1.9798\n",
    "\n",
    "p_docked_south = np.array([-519.028, -309.423])\n",
    "dir_docked_south = 2.8893\n",
    "\n",
    "#Vessel dimensions\n",
    "vessel_L = 8.658\n",
    "vessel_B = 4\n",
    "\n",
    "#Define quay geometries\n",
    "\n",
    "#Origin of local quay coordinates is at p0 of the main quay polygon with x-axis pointing from p0 to p1 of the main quay\n",
    "#and y-axis pointing in the direction of the outrigger\n",
    "\n",
    "#North quay\n",
    "#Main quay polygon\n",
    "p0_north_main = np.array([0,0])\n",
    "p1_north_main = np.array([4, 0])\n",
    "depth_north_main = 4.8\n",
    "\n",
    "#South quay\n",
    "#Main quay polygon\n",
    "p0_south_main = np.array([0,0])\n",
    "p1_south_main = np.array([4, 0])\n",
    "depth_south_main = 4.8\n"
   ]
  },
  {
   "attachments": {},
   "cell_type": "markdown",
   "metadata": {},
   "source": [
    "Calculate quay polygons in NED frame"
   ]
  },
  {
   "cell_type": "code",
   "execution_count": 32,
   "metadata": {},
   "outputs": [],
   "source": [
    "#Position vessel center i local quay frame when the vessel is docked \n",
    "p_vessel_center_north = p0_north_main + np.array([vessel_B/2, vessel_L/2])\n",
    "p_vessel_center_south = p0_south_main + np.array([vessel_B/2, vessel_L/2])\n",
    "\n",
    "#Angle of local quay frames relative to NED frames\n",
    "dir_north_quay = dir_docked_north - pi/2\n",
    "dir_south_quay = dir_docked_south + pi/2\n",
    "\n",
    "#Rotation matrices for transforming between NED and local quay frames\n",
    "R_north = np.array([(cos(dir_north_quay), -sin(dir_north_quay)), (sin(dir_north_quay), cos(dir_north_quay))])\n",
    "R_south = np.array([(cos(dir_south_quay), -sin(dir_south_quay)), (sin(dir_south_quay), cos(dir_south_quay))])\n",
    "\n",
    "\n",
    "#Position and orientation of local quay frames in NED frame\n",
    "p_origin_north_quay = p_docked_north - R_north@p_vessel_center_north\n",
    "p_origin_south_quay = p_docked_south - R_south@p_vessel_center_south\n",
    "\n",
    "#Transform quay coordinates to NED frame\n",
    "p0_north_main_ned = p_origin_north_quay + R_north@p0_north_main\n",
    "p1_north_main_ned = p_origin_north_quay + R_north@p1_north_main\n",
    "p2_north_main_ned = p_origin_north_quay + R_north@(p1_north_main + np.array([0.0, -depth_north_main]))\n",
    "p3_north_main_ned = p_origin_north_quay + R_north@(p0_north_main + np.array([0.0, -depth_north_main]))\n",
    "\n",
    "p0_south_main_ned = p_origin_south_quay + R_south@p0_south_main\n",
    "p1_south_main_ned = p_origin_south_quay + R_south@p1_south_main\n",
    "p2_south_main_ned = p_origin_south_quay + R_south@(p1_south_main + np.array([0.0, -depth_south_main]))\n",
    "p3_south_main_ned = p_origin_south_quay + R_south@(p0_south_main + np.array([0.0, -depth_south_main]))"
   ]
  },
  {
   "attachments": {},
   "cell_type": "markdown",
   "metadata": {},
   "source": [
    "Draw quays for validation"
   ]
  },
  {
   "cell_type": "code",
   "execution_count": 33,
   "metadata": {},
   "outputs": [
    {
     "data": {
      "image/png": "[encoded data removed]",
      "text/plain": [
       "<Figure size 640x480 with 1 Axes>"
      ]
     },
     "metadata": {},
     "output_type": "display_data"
    }
   ],
   "source": [
    "north_main_poly = Polygon(np.fliplr(np.array([p0_north_main_ned, p1_north_main_ned, p2_north_main_ned, p3_north_main_ned, p0_north_main_ned])), facecolor = 'k')\n",
    "\n",
    "south_main_poly = Polygon(np.fliplr(np.array([p0_south_main_ned, p1_south_main_ned, p2_south_main_ned, p3_south_main_ned, p0_south_main_ned])), facecolor = 'k')\n",
    "\n",
    "fig,ax = plt.subplots()\n",
    "ax.add_patch(north_main_poly)\n",
    "ax.add_patch(south_main_poly)\n",
    "ax.axis('equal')\n",
    "plt.show()"
   ]
  },
  {
   "attachments": {},
   "cell_type": "markdown",
   "metadata": {},
   "source": [
    "Print coordinates output needed for OSPSystemStructure"
   ]
  },
  {
   "cell_type": "code",
   "execution_count": 34,
   "metadata": {},
   "outputs": [
    {
     "name": "stdout",
     "output_type": "stream",
     "text": [
      "South p0 main: [-522.72070602 -306.4056894 ]\n",
      "South p1 main: [-523.71920477 -310.27906006]\n",
      "North p0 main: [-455.43741173 -348.31132407]\n",
      "North p1 main: [-451.76734168 -346.72054256]\n"
     ]
    }
   ],
   "source": [
    "print('South p0 main: {}\\nSouth p1 main: {}'.format(p0_south_main_ned, p1_south_main_ned))\n",
    "print('North p0 main: {}\\nNorth p1 main: {}'.format(p0_north_main_ned, p1_north_main_ned))"
   ]
  },
  {
   "attachments": {},
   "cell_type": "markdown",
   "metadata": {},
   "source": [
    "Generate XML output for copying into OspSystemStructure.xml"
   ]
  },
  {
   "cell_type": "code",
   "execution_count": 35,
   "metadata": {},
   "outputs": [
    {
     "name": "stdout",
     "output_type": "stream",
     "text": [
      "<!-- Ravnkloa -->\n",
      "<InitialValue variable=\"quay_1_en\"><Boolean value=\"true\"/></InitialValue>\n",
      "<InitialValue variable=\"quay_1_p0[1]\"><Real value=\"-522.7207060180632\"/></InitialValue>\n",
      "<InitialValue variable=\"quay_1_p0[2]\"><Real value=\"-306.40568939879245\"/></InitialValue>\n",
      "<InitialValue variable=\"quay_1_p1[1]\"><Real value=\"-523.7192047686264\"/></InitialValue>\n",
      "<InitialValue variable=\"quay_1_p1[2]\"><Real value=\"-310.2790600556137\"/></InitialValue>\n",
      "<InitialValue variable=\"quay_1_depth\"><Real value=\"4.8\"/></InitialValue>\n",
      "<!-- Fosenkaia -->\n",
      "<InitialValue variable=\"quay_2_en\"><Boolean value=\"true\"/></InitialValue>\n",
      "<InitialValue variable=\"quay_2_p0[1]\"><Real value=\"-455.43741173300276\"/></InitialValue>\n",
      "<InitialValue variable=\"quay_2_p0[2]\"><Real value=\"-348.3113240689948\"/></InitialValue>\n",
      "<InitialValue variable=\"quay_2_p1[1]\"><Real value=\"-451.76734168217365\"/></InitialValue>\n",
      "<InitialValue variable=\"quay_2_p1[2]\"><Real value=\"-346.7205425560248\"/></InitialValue>\n",
      "<InitialValue variable=\"quay_2_depth\"><Real value=\"4.8\"/></InitialValue>\n"
     ]
    }
   ],
   "source": [
    "print('<!-- Ravnkloa -->')\n",
    "print('<InitialValue variable=\"quay_1_en\"><Boolean value=\"true\"/></InitialValue>')\n",
    "print('<InitialValue variable=\"quay_1_p0[1]\"><Real value=\"{0}\"/></InitialValue>'.format(p0_south_main_ned[0]))\n",
    "print('<InitialValue variable=\"quay_1_p0[2]\"><Real value=\"{0}\"/></InitialValue>'.format(p0_south_main_ned[1]))\n",
    "print('<InitialValue variable=\"quay_1_p1[1]\"><Real value=\"{0}\"/></InitialValue>'.format(p1_south_main_ned[0]))\n",
    "print('<InitialValue variable=\"quay_1_p1[2]\"><Real value=\"{0}\"/></InitialValue>'.format(p1_south_main_ned[1]))\n",
    "print('<InitialValue variable=\"quay_1_depth\"><Real value=\"{0}\"/></InitialValue>'.format(depth_south_main))\n",
    "\n",
    "print('<!-- Fosenkaia -->')\n",
    "print('<InitialValue variable=\"quay_2_en\"><Boolean value=\"true\"/></InitialValue>')\n",
    "print('<InitialValue variable=\"quay_2_p0[1]\"><Real value=\"{0}\"/></InitialValue>'.format(p0_north_main_ned[0]))\n",
    "print('<InitialValue variable=\"quay_2_p0[2]\"><Real value=\"{0}\"/></InitialValue>'.format(p0_north_main_ned[1]))\n",
    "print('<InitialValue variable=\"quay_2_p1[1]\"><Real value=\"{0}\"/></InitialValue>'.format(p1_north_main_ned[0]))\n",
    "print('<InitialValue variable=\"quay_2_p1[2]\"><Real value=\"{0}\"/></InitialValue>'.format(p1_north_main_ned[1]))\n",
    "print('<InitialValue variable=\"quay_2_depth\"><Real value=\"{0}\"/></InitialValue>'.format(depth_north_main))"
   ]
  }
 ],
 "metadata": {
  "kernelspec": {
   "display_name": "Python 3",
   "language": "python",
   "name": "python3"
  },
  "language_info": {
   "codemirror_mode": {
    "name": "ipython",
    "version": 3
   },
   "file_extension": ".py",
   "mimetype": "text/x-python",
   "name": "python",
   "nbconvert_exporter": "python",
   "pygments_lexer": "ipython3",
   "version": "3.10.11"
  },
  "orig_nbformat": 4,
  "vscode": {
   "interpreter": {
    "hash": "47101dfea440ac32895a4c0f5bf5a5798f555fd36cd08b76faec31f22e63d356"
   }
  }
 },
 "nbformat": 4,
 "nbformat_minor": 2
}
