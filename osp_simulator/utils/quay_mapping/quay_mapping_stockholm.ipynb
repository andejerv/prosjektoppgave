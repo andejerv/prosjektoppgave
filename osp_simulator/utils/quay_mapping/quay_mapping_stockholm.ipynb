{
 "cells": [
  {
   "attachments": {},
   "cell_type": "markdown",
   "metadata": {},
   "source": [
    "# Definition of quays polygons for Stockholm"
   ]
  },
  {
   "cell_type": "code",
   "execution_count": 20,
   "metadata": {},
   "outputs": [],
   "source": [
    "from math import cos, sin, pi\n",
    "import numpy as np\n",
    "import matplotlib.pyplot as plt\n",
    "from matplotlib.patches import Polygon\n",
    "\n",
    "#Definition of main quay polygon\n",
    "\n",
    "#  \n",
    "#    p3 ------ p2 \\ \n",
    "#    |         |   }depth\n",
    "#    |         |   /\n",
    "#    p0 ------ p1 /"
   ]
  },
  {
   "attachments": {},
   "cell_type": "markdown",
   "metadata": {},
   "source": [
    "## Input section"
   ]
  },
  {
   "cell_type": "code",
   "execution_count": 21,
   "metadata": {},
   "outputs": [
    {
     "ename": "NameError",
     "evalue": "name 'math' is not defined",
     "output_type": "error",
     "traceback": [
      "\u001b[1;31m---------------------------------------------------------------------------\u001b[0m",
      "\u001b[1;31mNameError\u001b[0m                                 Traceback (most recent call last)",
      "Cell \u001b[1;32mIn[21], line 6\u001b[0m\n\u001b[0;32m      3\u001b[0m dir_docked_north \u001b[39m=\u001b[39m \u001b[39m-\u001b[39m\u001b[39m3.1373\u001b[39m\n\u001b[0;32m      5\u001b[0m p_docked_south \u001b[39m=\u001b[39m np\u001b[39m.\u001b[39marray([\u001b[39m87.50\u001b[39m, \u001b[39m494.90\u001b[39m])\n\u001b[1;32m----> 6\u001b[0m dir_docked_south \u001b[39m=\u001b[39m  \u001b[39m-\u001b[39m\u001b[39m0.09075\u001b[39m \u001b[39m+\u001b[39m math\u001b[39m.\u001b[39mpi\n\u001b[0;32m      8\u001b[0m \u001b[39m#Vessel dimensions\u001b[39;00m\n\u001b[0;32m      9\u001b[0m vessel_L \u001b[39m=\u001b[39m \u001b[39m12.2\u001b[39m\n",
      "\u001b[1;31mNameError\u001b[0m: name 'math' is not defined"
     ]
    }
   ],
   "source": [
    "#Position and heading of vessel center when docked (from autonomy config file)\n",
    "p_docked_north = np.array([612.88, 138.02])\n",
    "dir_docked_north = -3.1373\n",
    "\n",
    "p_docked_south = np.array([87.50, 494.90])\n",
    "dir_docked_south =  -0.09075 + pi\n",
    "\n",
    "#Vessel dimensions\n",
    "vessel_L = 12.2\n",
    "vessel_B = 5.2\n",
    "\n",
    "#Define quay geometries\n",
    "\n",
    "#Origin of local quay coordinates is at p0 of the main quay polygon with x-axis pointing from p0 to p1 of the main quay\n",
    "#and y-axis pointing in the direction of the outrigger\n",
    "\n",
    "#North quay\n",
    "#Main quay polygon\n",
    "p0_north_main = np.array([0,0])\n",
    "p1_north_main = np.array([12, 0])\n",
    "depth_north_main = 4.8\n",
    "\n",
    "#Outrigger polygon\n",
    "p0_north_outrigger = np.array([5.1 + 0.5*(2.4-0.71), 12])\n",
    "p1_north_outrigger = np.array([5.1 + 0.5*(2.4-0.71), 0])\n",
    "depth_north_outrigger = 0.71\n",
    "\n",
    "#South quay\n",
    "#Main quay polygon\n",
    "p0_south_main = np.array([0,0])\n",
    "p1_south_main = np.array([9, 0])\n",
    "depth_south_main = 4.8\n",
    "\n",
    "#Outrigger polygon\n",
    "p0_south_outrigger = np.array([0.5*(2.4-0.71), 12])\n",
    "p1_south_outrigger = np.array([0.5*(2.4-0.71),0])\n",
    "depth_south_outrigger = 0.71\n"
   ]
  },
  {
   "attachments": {},
   "cell_type": "markdown",
   "metadata": {},
   "source": [
    "Calculate quay polygons in NED frame"
   ]
  },
  {
   "cell_type": "code",
   "execution_count": 15,
   "metadata": {},
   "outputs": [],
   "source": [
    "#Position vessel center i local quay frame when the vessel is docked \n",
    "p_vessel_center_north = p1_north_outrigger + np.array([vessel_B/2, vessel_L/2])\n",
    "p_vessel_center_south = p1_south_outrigger + np.array([vessel_B/2, vessel_L/2])\n",
    "\n",
    "#Angle of local quay frames relative to NED frames\n",
    "dir_north_quay = dir_docked_north - pi/2\n",
    "dir_south_quay = dir_docked_south + pi/2\n",
    "\n",
    "#Rotation matrices for transforming between NED and local quay frames\n",
    "R_north = np.array([(cos(dir_north_quay), -sin(dir_north_quay)), (sin(dir_north_quay), cos(dir_north_quay))])\n",
    "R_south = np.array([(cos(dir_south_quay), -sin(dir_south_quay)), (sin(dir_south_quay), cos(dir_south_quay))])\n",
    "\n",
    "\n",
    "#Position and orientation of local quay frames in NED frame\n",
    "p_origin_north_quay = p_docked_north - R_north@p_vessel_center_north\n",
    "p_origin_south_quay = p_docked_south - R_south@p_vessel_center_south\n",
    "\n",
    "#Transform quay coordinates to NED frame\n",
    "p0_north_main_ned = p_origin_north_quay + R_north@p0_north_main\n",
    "p1_north_main_ned = p_origin_north_quay + R_north@p1_north_main\n",
    "p2_north_main_ned = p_origin_north_quay + R_north@(p1_north_main + np.array([0.0, -depth_north_main]))\n",
    "p3_north_main_ned = p_origin_north_quay + R_north@(p0_north_main + np.array([0.0, -depth_north_main]))\n",
    "\n",
    "p0_north_outrigger_ned = p_origin_north_quay + R_north@p0_north_outrigger\n",
    "p1_north_outrigger_ned = p_origin_north_quay + R_north@p1_north_outrigger\n",
    "p2_north_outrigger_ned = p_origin_north_quay + R_north@(p1_north_outrigger + np.array([-depth_north_outrigger, 0.0]))\n",
    "p3_north_outrigger_ned = p_origin_north_quay + R_north@(p0_north_outrigger + np.array([-depth_north_outrigger, 0.0]))\n",
    "\n",
    "p0_south_main_ned = p_origin_south_quay + R_south@p0_south_main\n",
    "p1_south_main_ned = p_origin_south_quay + R_south@p1_south_main\n",
    "p2_south_main_ned = p_origin_south_quay + R_south@(p1_south_main + np.array([0.0, -depth_south_main]))\n",
    "p3_south_main_ned = p_origin_south_quay + R_south@(p0_south_main + np.array([0.0, -depth_south_main]))\n",
    "\n",
    "p0_south_outrigger_ned = p_origin_south_quay + R_south@p0_south_outrigger\n",
    "p1_south_outrigger_ned = p_origin_south_quay + R_south@p1_south_outrigger\n",
    "p2_south_outrigger_ned = p_origin_south_quay + R_south@(p1_south_outrigger + np.array([-depth_south_outrigger, 0.0]))\n",
    "p3_south_outrigger_ned = p_origin_south_quay + R_south@(p0_south_outrigger + np.array([-depth_south_outrigger, 0.0]))"
   ]
  },
  {
   "attachments": {},
   "cell_type": "markdown",
   "metadata": {},
   "source": [
    "Draw quays for validation"
   ]
  },
  {
   "cell_type": "code",
   "execution_count": 16,
   "metadata": {},
   "outputs": [
    {
     "data": {
      "image/png": "[encoded data removed]",
      "text/plain": [
       "<Figure size 640x480 with 1 Axes>"
      ]
     },
     "metadata": {},
     "output_type": "display_data"
    }
   ],
   "source": [
    "north_main_poly = Polygon(np.fliplr(np.array([p0_north_main_ned, p1_north_main_ned, p2_north_main_ned, p3_north_main_ned, p0_north_main_ned])), facecolor = 'k')\n",
    "north_outrigger_poly = Polygon(np.fliplr(np.array([p0_north_outrigger_ned, p1_north_outrigger_ned, p2_north_outrigger_ned, p3_north_outrigger_ned, p0_north_outrigger_ned])), facecolor = 'k')\n",
    "\n",
    "south_main_poly = Polygon(np.fliplr(np.array([p0_south_main_ned, p1_south_main_ned, p2_south_main_ned, p3_south_main_ned, p0_south_main_ned])), facecolor = 'k')\n",
    "south_outrigger_poly = Polygon(np.fliplr(np.array([p0_south_outrigger_ned, p1_south_outrigger_ned, p2_south_outrigger_ned, p3_south_outrigger_ned, p0_south_outrigger_ned])), facecolor = 'k')\n",
    "\n",
    "fig,ax = plt.subplots()\n",
    "ax.add_patch(north_main_poly)\n",
    "ax.add_patch(north_outrigger_poly)\n",
    "ax.add_patch(south_main_poly)\n",
    "ax.add_patch(south_outrigger_poly)\n",
    "ax.set_xlim([0, 500])\n",
    "ax.set_ylim([0,650])\n",
    "ax.axis('equal')\n",
    "plt.show()"
   ]
  },
  {
   "attachments": {},
   "cell_type": "markdown",
   "metadata": {},
   "source": [
    "Print coordinates output needed for OSPSystemStructure"
   ]
  },
  {
   "cell_type": "code",
   "execution_count": 17,
   "metadata": {},
   "outputs": [
    {
     "name": "stdout",
     "output_type": "stream",
     "text": [
      "South p0 main: [ 93.26269396 490.91636054]\n",
      "South p1 main: [ 94.07832336 499.87932594]\n",
      "South p0 outrigger:[ 81.38865197 492.84538927]\n",
      "South p1 outrigger:[ 93.3392725  491.75788341]\n",
      "North p0 main: [619.01662441 129.30126384]\n",
      "North p1 main: [618.96511273 141.30115327]\n",
      "North p0 outrigger:[606.99121522 135.19469738]\n",
      "North p1 outrigger:[618.99110466 135.24620906]\n"
     ]
    }
   ],
   "source": [
    "print('South p0 main: {}\\nSouth p1 main: {}\\nSouth p0 outrigger:{}\\nSouth p1 outrigger:{}'.format(p0_south_main_ned, p1_south_main_ned, p0_south_outrigger_ned, p1_south_outrigger_ned))\n",
    "print('North p0 main: {}\\nNorth p1 main: {}\\nNorth p0 outrigger:{}\\nNorth p1 outrigger:{}'.format(p0_north_main_ned, p1_north_main_ned, p0_north_outrigger_ned, p1_north_outrigger_ned))"
   ]
  },
  {
   "attachments": {},
   "cell_type": "markdown",
   "metadata": {},
   "source": [
    "Generate XML output for copying into OspSystemStructure.xml"
   ]
  },
  {
   "cell_type": "code",
   "execution_count": 18,
   "metadata": {},
   "outputs": [
    {
     "name": "stdout",
     "output_type": "stream",
     "text": [
      "<!-- South quay main block -->\n",
      "<InitialValue variable=\"quay_1_en\"><Boolean value=\"true\"/></InitialValue>\n",
      "<InitialValue variable=\"quay_1_p0[1]\"><Real value=\"93.26269396083187\"/></InitialValue>\n",
      "<InitialValue variable=\"quay_1_p0[2]\"><Real value=\"490.91636054420184\"/></InitialValue>\n",
      "<InitialValue variable=\"quay_1_p1[1]\"><Real value=\"94.07832335642648\"/></InitialValue>\n",
      "<InitialValue variable=\"quay_1_p1[2]\"><Real value=\"499.87932594015433\"/></InitialValue>\n",
      "<InitialValue variable=\"quay_1_depth\"><Real value=\"4.8\"/></InitialValue>\n",
      "<!-- South quay outrigger -->\n",
      "<InitialValue variable=\"quay_2_en\"><Boolean value=\"true\"/></InitialValue>\n",
      "<InitialValue variable=\"quay_2_p0[1]\"><Real value=\"81.38865197059269\"/></InitialValue>\n",
      "<InitialValue variable=\"quay_2_p0[2]\"><Real value=\"492.8453892671702\"/></InitialValue>\n",
      "<InitialValue variable=\"quay_2_p1[1]\"><Real value=\"93.33927249852937\"/></InitialValue>\n",
      "<InitialValue variable=\"quay_2_p1[2]\"><Real value=\"491.7578834063774\"/></InitialValue>\n",
      "<InitialValue variable=\"quay_2_depth\"><Real value=\"0.71\"/></InitialValue>\n",
      "<!-- North quay main block -->\n",
      "<InitialValue variable=\"quay_3_en\"><Boolean value=\"true\"/></InitialValue>\n",
      "<InitialValue variable=\"quay_3_p0[1]\"><Real value=\"619.016624410391\"/></InitialValue>\n",
      "<InitialValue variable=\"quay_3_p0[2]\"><Real value=\"129.30126383518115\"/></InitialValue>\n",
      "<InitialValue variable=\"quay_3_p1[1]\"><Real value=\"618.9651127255138\"/></InitialValue>\n",
      "<InitialValue variable=\"quay_3_p1[2]\"><Real value=\"141.30115327410186\"/></InitialValue>\n",
      "<InitialValue variable=\"quay_3_depth\"><Real value=\"4.8\"/></InitialValue>\n",
      "<!-- North quay outrigger -->\n",
      "<InitialValue variable=\"quay_4_en\"><Boolean value=\"true\"/></InitialValue>\n",
      "<InitialValue variable=\"quay_4_p0[1]\"><Real value=\"606.991215224254\"/></InitialValue>\n",
      "<InitialValue variable=\"quay_4_p0[2]\"><Real value=\"135.1946973765025\"/></InitialValue>\n",
      "<InitialValue variable=\"quay_4_p1[1]\"><Real value=\"618.9911046631747\"/></InitialValue>\n",
      "<InitialValue variable=\"quay_4_p1[2]\"><Real value=\"135.24620906137977\"/></InitialValue>\n",
      "<InitialValue variable=\"quay_4_depth\"><Real value=\"0.71\"/></InitialValue>\n"
     ]
    }
   ],
   "source": [
    "print('<!-- South quay main block -->')\n",
    "print('<InitialValue variable=\"quay_1_en\"><Boolean value=\"true\"/></InitialValue>')\n",
    "print('<InitialValue variable=\"quay_1_p0[1]\"><Real value=\"{0}\"/></InitialValue>'.format(p0_south_main_ned[0]))\n",
    "print('<InitialValue variable=\"quay_1_p0[2]\"><Real value=\"{0}\"/></InitialValue>'.format(p0_south_main_ned[1]))\n",
    "print('<InitialValue variable=\"quay_1_p1[1]\"><Real value=\"{0}\"/></InitialValue>'.format(p1_south_main_ned[0]))\n",
    "print('<InitialValue variable=\"quay_1_p1[2]\"><Real value=\"{0}\"/></InitialValue>'.format(p1_south_main_ned[1]))\n",
    "print('<InitialValue variable=\"quay_1_depth\"><Real value=\"{0}\"/></InitialValue>'.format(depth_south_main))\n",
    "\n",
    "print('<!-- South quay outrigger -->')\n",
    "print('<InitialValue variable=\"quay_2_en\"><Boolean value=\"true\"/></InitialValue>')\n",
    "print('<InitialValue variable=\"quay_2_p0[1]\"><Real value=\"{0}\"/></InitialValue>'.format(p0_south_outrigger_ned[0]))\n",
    "print('<InitialValue variable=\"quay_2_p0[2]\"><Real value=\"{0}\"/></InitialValue>'.format(p0_south_outrigger_ned[1]))\n",
    "print('<InitialValue variable=\"quay_2_p1[1]\"><Real value=\"{0}\"/></InitialValue>'.format(p1_south_outrigger_ned[0]))\n",
    "print('<InitialValue variable=\"quay_2_p1[2]\"><Real value=\"{0}\"/></InitialValue>'.format(p1_south_outrigger_ned[1]))\n",
    "print('<InitialValue variable=\"quay_2_depth\"><Real value=\"{0}\"/></InitialValue>'.format(depth_south_outrigger))\n",
    "\n",
    "print('<!-- North quay main block -->')\n",
    "print('<InitialValue variable=\"quay_3_en\"><Boolean value=\"true\"/></InitialValue>')\n",
    "print('<InitialValue variable=\"quay_3_p0[1]\"><Real value=\"{0}\"/></InitialValue>'.format(p0_north_main_ned[0]))\n",
    "print('<InitialValue variable=\"quay_3_p0[2]\"><Real value=\"{0}\"/></InitialValue>'.format(p0_north_main_ned[1]))\n",
    "print('<InitialValue variable=\"quay_3_p1[1]\"><Real value=\"{0}\"/></InitialValue>'.format(p1_north_main_ned[0]))\n",
    "print('<InitialValue variable=\"quay_3_p1[2]\"><Real value=\"{0}\"/></InitialValue>'.format(p1_north_main_ned[1]))\n",
    "print('<InitialValue variable=\"quay_3_depth\"><Real value=\"{0}\"/></InitialValue>'.format(depth_north_main))\n",
    "\n",
    "print('<!-- North quay outrigger -->')\n",
    "print('<InitialValue variable=\"quay_4_en\"><Boolean value=\"true\"/></InitialValue>')\n",
    "print('<InitialValue variable=\"quay_4_p0[1]\"><Real value=\"{0}\"/></InitialValue>'.format(p0_north_outrigger_ned[0]))\n",
    "print('<InitialValue variable=\"quay_4_p0[2]\"><Real value=\"{0}\"/></InitialValue>'.format(p0_north_outrigger_ned[1]))\n",
    "print('<InitialValue variable=\"quay_4_p1[1]\"><Real value=\"{0}\"/></InitialValue>'.format(p1_north_outrigger_ned[0]))\n",
    "print('<InitialValue variable=\"quay_4_p1[2]\"><Real value=\"{0}\"/></InitialValue>'.format(p1_north_outrigger_ned[1]))\n",
    "print('<InitialValue variable=\"quay_4_depth\"><Real value=\"{0}\"/></InitialValue>'.format(depth_north_outrigger))\n"
   ]
  }
 ],
 "metadata": {
  "kernelspec": {
   "display_name": "Python 3",
   "language": "python",
   "name": "python3"
  },
  "language_info": {
   "codemirror_mode": {
    "name": "ipython",
    "version": 3
   },
   "file_extension": ".py",
   "mimetype": "text/x-python",
   "name": "python",
   "nbconvert_exporter": "python",
   "pygments_lexer": "ipython3",
   "version": "3.10.11"
  },
  "orig_nbformat": 4,
  "vscode": {
   "interpreter": {
    "hash": "47101dfea440ac32895a4c0f5bf5a5798f555fd36cd08b76faec31f22e63d356"
   }
  }
 },
 "nbformat": 4,
 "nbformat_minor": 2
}
