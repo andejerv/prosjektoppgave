{
 "cells": [
  {
   "attachments": {},
   "cell_type": "markdown",
   "metadata": {},
   "source": [
    "## milliAmpere II"
   ]
  },
  {
   "cell_type": "code",
   "execution_count": 2,
   "metadata": {},
   "outputs": [
    {
     "name": "stdout",
     "output_type": "stream",
     "text": [
      "Tuning parameters:\n",
      "P-gain: [1120. 1120. 5600.]\n",
      "D-gain: [10870. 10810. 53500.]\n",
      "I-gain:[ 56.  56. 280.]\n",
      "82.5\n",
      "97.5\n",
      "250.0\n"
     ]
    }
   ],
   "source": [
    "# This script computes gains for the DP Mockup controller based\n",
    "# on a mass-spring-damper approximation given the FF parameters.\n",
    "import numpy as np\n",
    "\n",
    "# Parameters from the feed-forward part of DP Mockup controller\n",
    "m11 = 7000\n",
    "m22 = 7000\n",
    "m33 = 35000\n",
    "\n",
    "d11 = 330\n",
    "d22 = 390\n",
    "d33 = 2500\n",
    "\n",
    "# Desired natrual frequency and damping ration\n",
    "omega_n = np.array([0.4, 0.4, 0.4])\n",
    "zeta = np.array([2, 2, 2])\n",
    "t_integral = 20 # Time for the integrator to double the P output\n",
    "\n",
    "m = np.array([m11, m22, m33])\n",
    "k_p = m*omega_n**2\n",
    "c = 2*zeta*omega_n*m\n",
    "k_d = c - np.array([d11, d22, d33])\n",
    "k_i = k_p/t_integral\n",
    "\n",
    "print('Tuning parameters:\\nP-gain: {}\\nD-gain: {}\\nI-gain:{}'.format(k_p,k_d,k_i))\n",
    "print(d11*0.25)\n",
    "print(d22*0.25)\n",
    "print(d33*0.1)\n"
   ]
  },
  {
   "attachments": {},
   "cell_type": "markdown",
   "metadata": {},
   "source": [
    "## Zeabuz 1"
   ]
  },
  {
   "cell_type": "code",
   "execution_count": 5,
   "metadata": {},
   "outputs": [
    {
     "name": "stdout",
     "output_type": "stream",
     "text": [
      "Tuning parameters:\n",
      "P-gain: [ 1485.  1800. 13140.]\n",
      "D-gain: [ 19700.  23000. 170700.]\n",
      "I-gain:[ 74.25  90.   657.  ]\n"
     ]
    }
   ],
   "source": [
    "# This script computes gains for the DP Mockup controller based\n",
    "# on a mass-spring-damper approximation given the FF parameters.\n",
    "import numpy as np\n",
    "\n",
    "# Parameters from the feed-forward part of DP Mockup controller\n",
    "m11 = 16500\n",
    "m22 = 20000\n",
    "m33 = 146000\n",
    "\n",
    "d11 = 100\n",
    "d22 = 1000\n",
    "d33 = 4500\n",
    "\n",
    "# Desired natrual frequency and damping ration\n",
    "omega_n = np.array([0.3, 0.3, 0.3])\n",
    "zeta = np.array([2, 2, 2])\n",
    "t_integral = 20 # Time for the integrator to double the P output\n",
    "\n",
    "m = np.array([m11, m22, m33])\n",
    "k_p = m*omega_n**2\n",
    "c = 2*zeta*omega_n*m\n",
    "k_d = c - np.array([d11, d22, d33])\n",
    "k_i = k_p/t_integral\n",
    "\n",
    "print('Tuning parameters:\\nP-gain: {}\\nD-gain: {}\\nI-gain:{}'.format(k_p,k_d,k_i))\n"
   ]
  },
  {
   "cell_type": "code",
   "execution_count": 4,
   "metadata": {},
   "outputs": [
    {
     "name": "stdout",
     "output_type": "stream",
     "text": [
      "175.0\n",
      "1544.6\n",
      "5630.0\n",
      "78.0\n",
      "772.4\n",
      "3918.0\n"
     ]
    }
   ],
   "source": [
    "#Linear low-speed damping for new vessel model including drag on thrusters\n",
    "\n",
    "u = 0.5\n",
    "v = 0.5\n",
    "r = 0.1\n",
    "#Resulting forces from forcing the above speeds in the simulator\n",
    "X = 87.5\n",
    "Y = 772.3\n",
    "N = 563.0\n",
    "\n",
    "d11 = X/u\n",
    "d22 = Y/v\n",
    "d33 = N/r\n",
    "print(d11)\n",
    "print(d22)\n",
    "print(d33)\n",
    "\n",
    "\n",
    "u = 0.25\n",
    "v = 0.25\n",
    "r = 0.05\n",
    "#Resulting forces from forcing the above speeds in the simulator\n",
    "X = 19.5\n",
    "Y = 193.1\n",
    "N = 195.9\n",
    "\n",
    "d11 = X/u\n",
    "d22 = Y/v\n",
    "d33 = N/r\n",
    "print(d11)\n",
    "print(d22)\n",
    "print(d33)\n"
   ]
  }
 ],
 "metadata": {
  "kernelspec": {
   "display_name": "Python 3",
   "language": "python",
   "name": "python3"
  },
  "language_info": {
   "codemirror_mode": {
    "name": "ipython",
    "version": 3
   },
   "file_extension": ".py",
   "mimetype": "text/x-python",
   "name": "python",
   "nbconvert_exporter": "python",
   "pygments_lexer": "ipython3",
   "version": "3.10.6"
  },
  "orig_nbformat": 4,
  "vscode": {
   "interpreter": {
    "hash": "916dbcbb3f70747c44a77c7bcd40155683ae19c65e1c03b4aa3499c5328201f1"
   }
  }
 },
 "nbformat": 4,
 "nbformat_minor": 2
}
