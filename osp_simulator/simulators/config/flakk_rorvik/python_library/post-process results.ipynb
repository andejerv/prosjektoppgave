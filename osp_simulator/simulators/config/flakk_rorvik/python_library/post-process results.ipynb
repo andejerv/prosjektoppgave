{
 "cells": [
  {
   "cell_type": "code",
   "execution_count": 972,
   "id": "cda906d1",
   "metadata": {},
   "outputs": [],
   "source": [
    "import numpy as np\n",
    "import pandas as pd\n",
    "\n",
    "import os\n",
    "import sys\n",
    "\n",
    "import matplotlib as mpl\n",
    "import matplotlib.pyplot as plt\n",
    "\n",
    "w_plot = 8\n",
    "h_plot = w_plot / 1.85\n",
    "\n",
    "mpl.rcParams['figure.figsize'] = (w_plot, h_plot)"
   ]
  },
  {
   "cell_type": "code",
   "execution_count": 973,
   "id": "7f645aa7",
   "metadata": {},
   "outputs": [
    {
     "data": {
      "text/plain": [
       "['protos',\n",
       " 'set_points_pb2.py',\n",
       " 'set_points_pb2_grpc.py',\n",
       " 'set_points_server.py',\n",
       " 'velocity_profile.py',\n",
       " '__pycache__']"
      ]
     },
     "execution_count": 973,
     "metadata": {},
     "output_type": "execute_result"
    }
   ],
   "source": [
    "add_path_list = ['propeller_model', 'autocross_lib']\n",
    "\n",
    "os.listdir(add_path_list[1])"
   ]
  },
  {
   "cell_type": "code",
   "execution_count": 974,
   "id": "2b5931bb",
   "metadata": {},
   "outputs": [],
   "source": [
    "for add_path in add_path_list:\n",
    "    if add_path not in sys.path:\n",
    "        sys.path.append(add_path)\n",
    "    \n",
    "import prop_model\n",
    "import velocity_profile"
   ]
  },
  {
   "cell_type": "markdown",
   "id": "1d0bcca2",
   "metadata": {},
   "source": [
    "## Load in data"
   ]
  },
  {
   "cell_type": "code",
   "execution_count": 975,
   "id": "abc24c4d",
   "metadata": {},
   "outputs": [
    {
     "data": {
      "text/plain": [
       "['heading_controller_20220929_154103_669065.csv',\n",
       " 'hull_maneuvering_20220929_154103_685219.csv',\n",
       " 'rigid_body_20220929_154103_685219.csv',\n",
       " 'rudder_20220929_154103_685219.csv',\n",
       " 'set_points_client_20220929_154103_685219.csv',\n",
       " 'speed_controller_20220929_154103_685219.csv',\n",
       " 'steering_machinery_20220929_154103_685219.csv',\n",
       " 'thruster1_20220929_154103_685219.csv',\n",
       " 'wind_loads_20220929_154103_669065.csv']"
      ]
     },
     "execution_count": 975,
     "metadata": {},
     "output_type": "execute_result"
    }
   ],
   "source": [
    "result_folder = 'C:/Users/JarleKramer/osp-results/flakk_rorvik/'\n",
    "\n",
    "os.listdir(result_folder)"
   ]
  },
  {
   "cell_type": "code",
   "execution_count": 976,
   "id": "4c3d20d5",
   "metadata": {},
   "outputs": [],
   "source": [
    "def get_data_frames(result_folder):\n",
    "    model_list = ['heading_controller', \n",
    "                  'rigid_body', \n",
    "                  'hull_maneuvering', \n",
    "                  'speed_controller', \n",
    "                  'thruster1', \n",
    "                  'wind_loads', \n",
    "                  'rudder']\n",
    "    df_list = []\n",
    "\n",
    "    result_list = os.listdir(result_folder)\n",
    "\n",
    "    for i in range(len(model_list)):\n",
    "        for j in range(len(result_list)):\n",
    "            if model_list[i] in result_list[j]:\n",
    "                df_ = pd.read_csv(result_folder + result_list[j])\n",
    "\n",
    "                df_list.append(df_)\n",
    "\n",
    "    df_list\n",
    "    \n",
    "    df_heading = df_list[0]\n",
    "    df_body = df_list[1]\n",
    "    df_hull = df_list[2]\n",
    "    df_speed = df_list[3]\n",
    "    df_thruster = df_list[4]\n",
    "    df_wind = df_list[5]\n",
    "    df_rudder = df_list[6]\n",
    "    \n",
    "    return df_heading, df_body, df_hull, df_speed, df_thruster, df_wind, df_rudder"
   ]
  },
  {
   "cell_type": "code",
   "execution_count": 977,
   "id": "f52056e1",
   "metadata": {},
   "outputs": [],
   "source": [
    "def analyze_case(result_folder):\n",
    "    df_heading, df_body, df_hull, df_speed, df_thruster, df_wind, df_rudder = get_data_frames(result_folder)\n",
    "    \n",
    "    loading = df_thruster['loading [12 real input]'].to_numpy()\n",
    "    nr_thruster = len(loading)\n",
    "    \n",
    "    prop_max_thrust = 200_000\n",
    "\n",
    "    thrust = loading * prop_max_thrust\n",
    "\n",
    "    t_thruster = df_thruster['Time'].to_numpy()\n",
    "    \n",
    "    u = df_body['eta_dot[1] [24 real output]']\n",
    "    v = df_body['eta_dot[2] [25 real output]']\n",
    "\n",
    "    U = np.sqrt(u**2 + v**2)\n",
    "\n",
    "    power = np.zeros(nr_thruster)\n",
    "    \n",
    "    prop = prop_model.PropModel()\n",
    "\n",
    "    for i in range(nr_thruster):\n",
    "        power[i] = prop.get_power(U[i], thrust[i])\n",
    "\n",
    "    nan_indices = np.argwhere(np.isnan(power))\n",
    "\n",
    "    power[nan_indices] = 0.0\n",
    "\n",
    "    energy_total = np.trapz(power, x=t_thruster) * 2.77777778E-7\n",
    "    \n",
    "    u_transit = np.interp(15 * 60, df_speed['Time'], U)\n",
    "    \n",
    "    return u_transit, energy_total"
   ]
  },
  {
   "cell_type": "markdown",
   "id": "5e22703c",
   "metadata": {},
   "source": [
    "## Look into specific case"
   ]
  },
  {
   "cell_type": "code",
   "execution_count": 978,
   "id": "607941eb",
   "metadata": {},
   "outputs": [],
   "source": [
    "df_heading, df_body, df_hull, df_speed, df_thruster, df_wind, df_rudder = get_data_frames(result_folder)"
   ]
  },
  {
   "cell_type": "markdown",
   "id": "d57708c6",
   "metadata": {},
   "source": [
    "## Rigid body results"
   ]
  },
  {
   "cell_type": "code",
   "execution_count": 979,
   "id": "497fc1ee",
   "metadata": {},
   "outputs": [
    {
     "data": {
      "text/plain": [
       "Index(['Time', 'StepCount', 'external_force[1] [0 real input]',\n",
       "       'external_force[2] [1 real input]', 'external_force[3] [2 real input]',\n",
       "       'external_force[4] [3 real input]', 'external_force[5] [4 real input]',\n",
       "       'external_force[6] [5 real input]', 'eta[1] [6 real output]',\n",
       "       'eta[2] [7 real output]', 'eta[3] [8 real output]',\n",
       "       'eta[4] [9 real output]', 'eta[5] [10 real output]',\n",
       "       'eta[6] [11 real output]', 'nu[1] [12 real output]',\n",
       "       'nu[2] [13 real output]', 'nu[3] [14 real output]',\n",
       "       'nu[4] [15 real output]', 'nu[5] [16 real output]',\n",
       "       'nu[6] [17 real output]', 'acc[1] [18 real output]',\n",
       "       'acc[2] [19 real output]', 'acc[3] [20 real output]',\n",
       "       'acc[4] [21 real output]', 'acc[5] [22 real output]',\n",
       "       'acc[6] [23 real output]', 'eta_dot[1] [24 real output]',\n",
       "       'eta_dot[2] [25 real output]', 'eta_dot[3] [26 real output]',\n",
       "       'eta_dot[4] [27 real output]', 'eta_dot[5] [28 real output]',\n",
       "       'eta_dot[6] [29 real output]', 'B_vessel [31 real parameter]',\n",
       "       'I[1] [32 real parameter]', 'I[2] [33 real parameter]',\n",
       "       'I[3] [34 real parameter]', 'I_added[1] [35 real parameter]',\n",
       "       'I_added[2] [36 real parameter]', 'I_added[3] [37 real parameter]',\n",
       "       'L_vessel [38 real parameter]', 'd_quay [39 real parameter]',\n",
       "       'initial_position[1] [40 real parameter]',\n",
       "       'initial_position[2] [41 real parameter]',\n",
       "       'initial_position[3] [42 real parameter]',\n",
       "       'initial_position[4] [43 real parameter]',\n",
       "       'initial_position[5] [44 real parameter]',\n",
       "       'initial_position[6] [45 real parameter]',\n",
       "       'initial_velocity[1] [46 real parameter]',\n",
       "       'initial_velocity[2] [47 real parameter]',\n",
       "       'initial_velocity[3] [48 real parameter]',\n",
       "       'initial_velocity[4] [49 real parameter]',\n",
       "       'initial_velocity[5] [50 real parameter]',\n",
       "       'initial_velocity[6] [51 real parameter]', 'k_quay [52 real parameter]',\n",
       "       'm [53 real parameter]', 'm_added[1] [54 real parameter]',\n",
       "       'm_added[2] [55 real parameter]', 'm_added[3] [56 real parameter]',\n",
       "       'mu_quay [57 real parameter]', 'quay_1_depth [58 real parameter]',\n",
       "       'quay_1_p0[1] [59 real parameter]', 'quay_1_p0[2] [60 real parameter]',\n",
       "       'quay_1_p1[1] [61 real parameter]', 'quay_1_p1[2] [62 real parameter]',\n",
       "       'quay_2_depth [63 real parameter]', 'quay_2_p0[1] [64 real parameter]',\n",
       "       'quay_2_p0[2] [65 real parameter]', 'quay_2_p1[1] [66 real parameter]',\n",
       "       'quay_2_p1[2] [67 real parameter]', 'quay_3_depth [68 real parameter]',\n",
       "       'quay_3_p0[1] [69 real parameter]', 'quay_3_p0[2] [70 real parameter]',\n",
       "       'quay_3_p1[1] [71 real parameter]', 'quay_3_p1[2] [72 real parameter]',\n",
       "       'quay_4_depth [73 real parameter]', 'quay_4_p0[1] [74 real parameter]',\n",
       "       'quay_4_p0[2] [75 real parameter]', 'quay_4_p1[1] [76 real parameter]',\n",
       "       'quay_4_p1[2] [77 real parameter]', 'quay_1_en [0 boolean parameter]',\n",
       "       'quay_2_en [1 boolean parameter]', 'quay_3_en [2 boolean parameter]',\n",
       "       'quay_4_en [3 boolean parameter]'],\n",
       "      dtype='object')"
      ]
     },
     "execution_count": 979,
     "metadata": {},
     "output_type": "execute_result"
    }
   ],
   "source": [
    "df_body.columns"
   ]
  },
  {
   "cell_type": "code",
   "execution_count": 980,
   "id": "bc6a3538",
   "metadata": {},
   "outputs": [],
   "source": [
    "t = df_body['Time']\n",
    "\n",
    "x = df_body['eta[1] [6 real output]']\n",
    "y = df_body['eta[2] [7 real output]']\n",
    "\n",
    "u = df_body['eta_dot[1] [24 real output]']\n",
    "v = df_body['eta_dot[2] [25 real output]']\n",
    "\n",
    "U = np.sqrt(u**2 + v**2)\n",
    "\n",
    "heading = df_body['eta[6] [11 real output]']"
   ]
  },
  {
   "cell_type": "markdown",
   "id": "214be460",
   "metadata": {},
   "source": [
    "### Path"
   ]
  },
  {
   "cell_type": "code",
   "execution_count": 981,
   "id": "dedbff95",
   "metadata": {},
   "outputs": [
    {
     "data": {
      "text/plain": [
       "(0.0, 7200.0)"
      ]
     },
     "execution_count": 981,
     "metadata": {},
     "output_type": "execute_result"
    },
    {
     "data": {
      "image/png": "[encoded data removed]",
      "text/plain": [
       "<Figure size 576x311.351 with 1 Axes>"
      ]
     },
     "metadata": {
      "needs_background": "light"
     },
     "output_type": "display_data"
    }
   ],
   "source": [
    "fig = plt.figure()\n",
    "\n",
    "ax1 = fig.add_subplot(111, aspect='equal')\n",
    "\n",
    "plt.plot(df_body['eta[1] [6 real output]'], df_body['eta[2] [7 real output]'])\n",
    "\n",
    "plt.ylim(-200, 200)\n",
    "plt.xlim(0, 7_200)"
   ]
  },
  {
   "cell_type": "code",
   "execution_count": 982,
   "id": "45ed7288",
   "metadata": {},
   "outputs": [
    {
     "data": {
      "text/plain": [
       "0        0.000000\n",
       "1        0.000000\n",
       "2        0.000076\n",
       "3        0.000339\n",
       "4        0.000789\n",
       "           ...   \n",
       "13796    5.343820\n",
       "13797    5.346430\n",
       "13798    5.349000\n",
       "13799    5.351540\n",
       "13800    5.354040\n",
       "Name: eta[2] [7 real output], Length: 13801, dtype: float64"
      ]
     },
     "execution_count": 982,
     "metadata": {},
     "output_type": "execute_result"
    }
   ],
   "source": [
    "df_body['eta[2] [7 real output]']"
   ]
  },
  {
   "cell_type": "markdown",
   "id": "36ccffea",
   "metadata": {},
   "source": [
    "### Velocity"
   ]
  },
  {
   "cell_type": "code",
   "execution_count": 983,
   "id": "7727c195",
   "metadata": {},
   "outputs": [
    {
     "name": "stdout",
     "output_type": "stream",
     "text": [
      "11.67\n"
     ]
    },
    {
     "data": {
      "image/png": "[encoded data removed]",
      "text/plain": [
       "<Figure size 576x311.351 with 1 Axes>"
      ]
     },
     "metadata": {
      "needs_background": "light"
     },
     "output_type": "display_data"
    }
   ],
   "source": [
    "plt.plot(t / 60, U / 0.514444444)\n",
    "\n",
    "plt.plot(df_speed['Time'] / 60, df_speed['target_speed [11 real input]'] / 0.5144444444, \n",
    "         label='Tilsvarende driftsprofil i simuleringer')\n",
    "\n",
    "U_transit = np.interp(15 * 60, df_speed['Time'], U)\n",
    "\n",
    "print(np.round(U_transit / 0.514444444, 2))\n",
    "\n",
    "plt.ylim(0, None)\n",
    "plt.xlim(0, 23)\n",
    "\n",
    "plt.xlabel('Tid [min]')\n",
    "plt.ylabel('Hastighet [knop]')\n",
    "\n",
    "plt.savefig('driftsprofil_hastighet.png', dpi=300, bbox_inches='tight')"
   ]
  },
  {
   "cell_type": "code",
   "execution_count": 984,
   "id": "4cfbf47f",
   "metadata": {},
   "outputs": [
    {
     "data": {
      "text/plain": [
       "23.0"
      ]
     },
     "execution_count": 984,
     "metadata": {},
     "output_type": "execute_result"
    }
   ],
   "source": [
    "t.to_numpy()[-1] / 60"
   ]
  },
  {
   "cell_type": "markdown",
   "id": "bf0d2332",
   "metadata": {},
   "source": [
    "### Heading"
   ]
  },
  {
   "cell_type": "code",
   "execution_count": 985,
   "id": "de519691",
   "metadata": {},
   "outputs": [
    {
     "data": {
      "text/plain": [
       "(0.0, 24.0)"
      ]
     },
     "execution_count": 985,
     "metadata": {},
     "output_type": "execute_result"
    },
    {
     "data": {
      "image/png": "[encoded data removed]",
      "text/plain": [
       "<Figure size 576x311.351 with 1 Axes>"
      ]
     },
     "metadata": {
      "needs_background": "light"
     },
     "output_type": "display_data"
    }
   ],
   "source": [
    "plt.plot(df_body['Time'] / 60, df_body['eta[6] [11 real output]'] * 180 / np.pi)\n",
    "plt.xlim(0, 24)"
   ]
  },
  {
   "cell_type": "code",
   "execution_count": 986,
   "id": "804f2f79",
   "metadata": {},
   "outputs": [
    {
     "data": {
      "text/plain": [
       "7211.102550927979"
      ]
     },
     "execution_count": 986,
     "metadata": {},
     "output_type": "execute_result"
    }
   ],
   "source": [
    "np.sqrt(200**2 + (7200/2)**2)*2"
   ]
  },
  {
   "cell_type": "markdown",
   "id": "50ea351f",
   "metadata": {},
   "source": [
    "## Thruster"
   ]
  },
  {
   "cell_type": "code",
   "execution_count": 987,
   "id": "93b180ae",
   "metadata": {},
   "outputs": [
    {
     "data": {
      "text/plain": [
       "[<matplotlib.lines.Line2D at 0x1bcbe865400>]"
      ]
     },
     "execution_count": 987,
     "metadata": {},
     "output_type": "execute_result"
    },
    {
     "data": {
      "image/png": "[encoded data removed]",
      "text/plain": [
       "<Figure size 576x311.351 with 1 Axes>"
      ]
     },
     "metadata": {
      "needs_background": "light"
     },
     "output_type": "display_data"
    }
   ],
   "source": [
    "plt.plot(df_thruster['Time'] / 60, df_thruster['loading [102 real input]'])"
   ]
  },
  {
   "cell_type": "code",
   "execution_count": 988,
   "id": "17c90d07",
   "metadata": {},
   "outputs": [
    {
     "data": {
      "text/plain": [
       "[<matplotlib.lines.Line2D at 0x1bcbe8c4520>]"
      ]
     },
     "execution_count": 988,
     "metadata": {},
     "output_type": "execute_result"
    },
    {
     "data": {
      "image/png": "[encoded data removed]",
      "text/plain": [
       "<Figure size 576x311.351 with 1 Axes>"
      ]
     },
     "metadata": {
      "needs_background": "light"
     },
     "output_type": "display_data"
    }
   ],
   "source": [
    "plt.plot(df_thruster['Time'] / 60, df_thruster['angle [101 real input]'] * 180 / np.pi)"
   ]
  },
  {
   "cell_type": "code",
   "execution_count": 989,
   "id": "81260583",
   "metadata": {},
   "outputs": [
    {
     "data": {
      "text/plain": [
       "Index(['Time', 'StepCount', 'k_p [1 real parameter]', 'k_i [2 real parameter]',\n",
       "       'k_d [3 real parameter]', 'min_angle [4 real parameter]',\n",
       "       'max_angle [5 real parameter]', 'target_heading [11 real input]',\n",
       "       'estimated_heading [12 real input]', 'manual_angle [14 real input]',\n",
       "       'gain_adjust [15 real input]', 'angle [21 real output]',\n",
       "       'error [22 real output]', 'pid_on [13 boolean input]'],\n",
       "      dtype='object')"
      ]
     },
     "execution_count": 989,
     "metadata": {},
     "output_type": "execute_result"
    }
   ],
   "source": [
    "df_heading.columns"
   ]
  },
  {
   "cell_type": "code",
   "execution_count": 990,
   "id": "26d786f2",
   "metadata": {},
   "outputs": [
    {
     "data": {
      "text/plain": [
       "[<matplotlib.lines.Line2D at 0x1bcbe926520>]"
      ]
     },
     "execution_count": 990,
     "metadata": {},
     "output_type": "execute_result"
    },
    {
     "data": {
      "image/png": "[encoded data removed]",
      "text/plain": [
       "<Figure size 576x311.351 with 1 Axes>"
      ]
     },
     "metadata": {
      "needs_background": "light"
     },
     "output_type": "display_data"
    }
   ],
   "source": [
    "plt.plot(df_heading['Time'] / 60, df_heading['gain_adjust [15 real input]'])"
   ]
  },
  {
   "cell_type": "markdown",
   "id": "f31749d3",
   "metadata": {},
   "source": [
    "### Wind loads"
   ]
  },
  {
   "cell_type": "code",
   "execution_count": 991,
   "id": "092f1a24",
   "metadata": {},
   "outputs": [
    {
     "data": {
      "text/plain": [
       "Index(['Time', 'StepCount', 'Parameters.A_Fw [1 real parameter]',\n",
       "       'Parameters.A_Lw [2 real parameter]',\n",
       "       'Parameters.CD_lAF [3 real parameter]',\n",
       "       'Parameters.CD_t [4 real parameter]',\n",
       "       'Parameters.H_Lw [5 real parameter]',\n",
       "       'Parameters.L_oa [6 real parameter]',\n",
       "       'Parameters.delta [7 real parameter]',\n",
       "       'Parameters.kappa [8 real parameter]',\n",
       "       'Parameters.rho_air [9 real parameter]',\n",
       "       'Parameters.s_L [10 real parameter]', 'wind_direction [11 real input]',\n",
       "       'wind_speed [12 real input]', 'eta[0] [13 real input]',\n",
       "       'eta[1] [14 real input]', 'eta[2] [15 real input]',\n",
       "       'eta[3] [16 real input]', 'eta[4] [17 real input]',\n",
       "       'eta[5] [18 real input]', 'nu[0] [19 real input]',\n",
       "       'nu[1] [20 real input]', 'nu[2] [21 real input]',\n",
       "       'nu[3] [22 real input]', 'nu[4] [23 real input]',\n",
       "       'nu[5] [24 real input]', 'tau_wind[0] [25 real output]',\n",
       "       'tau_wind[1] [26 real output]', 'tau_wind[2] [27 real output]',\n",
       "       'tau_wind[3] [28 real output]', 'tau_wind[4] [29 real output]',\n",
       "       'tau_wind[5] [30 real output]'],\n",
       "      dtype='object')"
      ]
     },
     "execution_count": 991,
     "metadata": {},
     "output_type": "execute_result"
    }
   ],
   "source": [
    "df_wind.columns"
   ]
  },
  {
   "cell_type": "code",
   "execution_count": 992,
   "id": "6090d5bc",
   "metadata": {},
   "outputs": [
    {
     "data": {
      "text/plain": [
       "[<matplotlib.lines.Line2D at 0x1bcbef7ea30>]"
      ]
     },
     "execution_count": 992,
     "metadata": {},
     "output_type": "execute_result"
    },
    {
     "data": {
      "image/png": "[encoded data removed]",
      "text/plain": [
       "<Figure size 576x311.351 with 1 Axes>"
      ]
     },
     "metadata": {
      "needs_background": "light"
     },
     "output_type": "display_data"
    }
   ],
   "source": [
    "plt.plot(df_wind['Time'], df_wind['tau_wind[0] [25 real output]'])\n",
    "plt.plot(df_wind['Time'], df_wind['tau_wind[1] [26 real output]'])"
   ]
  },
  {
   "cell_type": "markdown",
   "id": "d9570cde",
   "metadata": {},
   "source": [
    "## Rudder"
   ]
  },
  {
   "cell_type": "code",
   "execution_count": 993,
   "id": "2e1ffa7f",
   "metadata": {},
   "outputs": [
    {
     "data": {
      "text/plain": [
       "Index(['Time', 'StepCount', 'density [1 real parameter]',\n",
       "       'kinematic_viscosity [2 real parameter]', 'area [3 real parameter]',\n",
       "       'chord [4 real parameter]', 'longitudinal_position [5 real parameter]',\n",
       "       'ship_length [6 real parameter]',\n",
       "       'effective_aspect_ratio_lift [7 real parameter]',\n",
       "       'effective_aspect_ratio_drag [8 real parameter]',\n",
       "       'cd_k [9 real parameter]', 'cd_a2 [10 real parameter]',\n",
       "       'cl_stall [11 real parameter]', 'w0 [12 real parameter]',\n",
       "       'gamma_positive [13 real parameter]',\n",
       "       'gamma_negative [14 real parameter]', 'lr_surge [16 real parameter]',\n",
       "       'lr_sway [17 real parameter]', 'tr [18 real parameter]',\n",
       "       'ah [19 real parameter]', 'xh [20 real parameter]',\n",
       "       'ship_velocity_surge [101 real input]',\n",
       "       'ship_velocity_sway [102 real input]',\n",
       "       'ship_velocity_yaw [103 real input]', 'angle [104 real input]',\n",
       "       'surge_velocity_increase_factor [105 real input]',\n",
       "       'force_surge [201 real output]', 'force_sway [202 real output]',\n",
       "       'moment_yaw [203 real output]',\n",
       "       'normal_force_mode [21 boolean parameter]'],\n",
       "      dtype='object')"
      ]
     },
     "execution_count": 993,
     "metadata": {},
     "output_type": "execute_result"
    }
   ],
   "source": [
    "df_rudder.columns"
   ]
  },
  {
   "cell_type": "code",
   "execution_count": 994,
   "id": "21b826f3",
   "metadata": {},
   "outputs": [
    {
     "data": {
      "text/plain": [
       "<matplotlib.collections.PathCollection at 0x1bcbefee880>"
      ]
     },
     "execution_count": 994,
     "metadata": {},
     "output_type": "execute_result"
    },
    {
     "data": {
      "image/png": "[encoded data removed]",
      "text/plain": [
       "<Figure size 576x311.351 with 1 Axes>"
      ]
     },
     "metadata": {
      "needs_background": "light"
     },
     "output_type": "display_data"
    }
   ],
   "source": [
    "area_  = df_rudder['area [3 real parameter]'].to_numpy()[-1]\n",
    "rho_   = df_rudder['density [1 real parameter]'].to_numpy()[-1]\n",
    "\n",
    "angle_ = df_rudder['angle [104 real input]'].to_numpy()\n",
    "u_     = df_rudder['ship_velocity_surge [101 real input]'].to_numpy()\n",
    "v_     = df_rudder['ship_velocity_sway [102 real input]'].to_numpy()\n",
    "\n",
    "w0_ = df_rudder['w0 [12 real parameter]'].to_numpy()[-1]\n",
    "\n",
    "U_ = np.sqrt(u_**2 + v_**2)\n",
    "\n",
    "indices = np.where(U_ > 0.5)\n",
    "\n",
    "sway_force = df_rudder['force_sway [202 real output]'].to_numpy()\n",
    "\n",
    "CL = sway_force[indices] / (0.5 * area_ * rho_ * U_[indices]**2)\n",
    "\n",
    "plt.scatter(angle_[indices] * 180 / np.pi,  -CL, alpha=0.25)\n",
    "\n",
    "#plt.ylim(0, 1.5)"
   ]
  },
  {
   "cell_type": "code",
   "execution_count": 995,
   "id": "f9d10804",
   "metadata": {},
   "outputs": [
    {
     "data": {
      "text/plain": [
       "[<matplotlib.lines.Line2D at 0x1bcbf050c40>]"
      ]
     },
     "execution_count": 995,
     "metadata": {},
     "output_type": "execute_result"
    },
    {
     "data": {
      "image/png": "[encoded data removed]",
      "text/plain": [
       "<Figure size 576x311.351 with 1 Axes>"
      ]
     },
     "metadata": {
      "needs_background": "light"
     },
     "output_type": "display_data"
    }
   ],
   "source": [
    "plt.plot(df_rudder['Time'], df_rudder['angle [104 real input]'] * 180 / np.pi)"
   ]
  },
  {
   "cell_type": "code",
   "execution_count": null,
   "id": "d2f6af39",
   "metadata": {},
   "outputs": [],
   "source": []
  },
  {
   "cell_type": "code",
   "execution_count": 996,
   "id": "22190dbb",
   "metadata": {},
   "outputs": [
    {
     "data": {
      "text/plain": [
       "Index(['Time', 'StepCount', 'p0_x [1 real parameter]',\n",
       "       'p0_y [2 real parameter]', 'orientation0_x [3 real parameter]',\n",
       "       'orientation0_y [4 real parameter]', 'max_thrust [5 real parameter]',\n",
       "       'angle [101 real input]', 'loading [102 real input]',\n",
       "       'force_surge [201 real output]', 'force_sway [202 real output]',\n",
       "       'moment_yaw [203 real output]'],\n",
       "      dtype='object')"
      ]
     },
     "execution_count": 996,
     "metadata": {},
     "output_type": "execute_result"
    }
   ],
   "source": [
    "df_thruster.columns"
   ]
  },
  {
   "cell_type": "code",
   "execution_count": 997,
   "id": "80ea4099",
   "metadata": {},
   "outputs": [
    {
     "data": {
      "text/plain": [
       "[<matplotlib.lines.Line2D at 0x1bcc1a119a0>]"
      ]
     },
     "execution_count": 997,
     "metadata": {},
     "output_type": "execute_result"
    },
    {
     "data": {
      "image/png": "[encoded data removed]",
      "text/plain": [
       "<Figure size 576x311.351 with 1 Axes>"
      ]
     },
     "metadata": {
      "needs_background": "light"
     },
     "output_type": "display_data"
    }
   ],
   "source": [
    "plt.plot(df_thruster['Time'], df_thruster['force_sway [202 real output]'])\n",
    "plt.plot(df_rudder['Time'],   df_rudder['force_sway [202 real output]'])\n",
    "\n",
    "plt.plot(df_wind['Time'], df_wind['tau_wind[1] [26 real output]'])"
   ]
  },
  {
   "cell_type": "code",
   "execution_count": 970,
   "id": "00a1a551",
   "metadata": {},
   "outputs": [
    {
     "data": {
      "text/plain": [
       "[<matplotlib.lines.Line2D at 0x1bcbe673460>]"
      ]
     },
     "execution_count": 970,
     "metadata": {},
     "output_type": "execute_result"
    },
    {
     "data": {
      "image/png": "[encoded data removed]",
      "text/plain": [
       "<Figure size 576x311.351 with 1 Axes>"
      ]
     },
     "metadata": {
      "needs_background": "light"
     },
     "output_type": "display_data"
    }
   ],
   "source": [
    "plt.plot(df_thruster['Time'], df_thruster['moment_yaw [203 real output]'])\n",
    "plt.plot(df_rudder['Time'],   df_rudder['moment_yaw [203 real output]'])"
   ]
  },
  {
   "cell_type": "code",
   "execution_count": 971,
   "id": "aba18813",
   "metadata": {},
   "outputs": [
    {
     "data": {
      "text/plain": [
       "[<matplotlib.lines.Line2D at 0x1bcbe6de0d0>]"
      ]
     },
     "execution_count": 971,
     "metadata": {},
     "output_type": "execute_result"
    },
    {
     "data": {
      "image/png": "[encoded data removed]",
      "text/plain": [
       "<Figure size 576x311.351 with 1 Axes>"
      ]
     },
     "metadata": {
      "needs_background": "light"
     },
     "output_type": "display_data"
    }
   ],
   "source": [
    "plt.plot(df_thruster['Time'], df_thruster['force_surge [201 real output]'])\n",
    "plt.plot(df_rudder['Time'],   df_rudder['force_surge [201 real output]'])"
   ]
  },
  {
   "cell_type": "code",
   "execution_count": null,
   "id": "5de3b745",
   "metadata": {},
   "outputs": [],
   "source": []
  },
  {
   "cell_type": "code",
   "execution_count": null,
   "id": "fbab7ca1",
   "metadata": {},
   "outputs": [],
   "source": []
  },
  {
   "cell_type": "code",
   "execution_count": null,
   "id": "e75244ae",
   "metadata": {},
   "outputs": [],
   "source": []
  },
  {
   "cell_type": "code",
   "execution_count": null,
   "id": "5e20bafc",
   "metadata": {},
   "outputs": [],
   "source": []
  }
 ],
 "metadata": {
  "kernelspec": {
   "display_name": "Python 3 (ipykernel)",
   "language": "python",
   "name": "python3"
  },
  "language_info": {
   "codemirror_mode": {
    "name": "ipython",
    "version": 3
   },
   "file_extension": ".py",
   "mimetype": "text/x-python",
   "name": "python",
   "nbconvert_exporter": "python",
   "pygments_lexer": "ipython3",
   "version": "3.9.6"
  }
 },
 "nbformat": 4,
 "nbformat_minor": 5
}
